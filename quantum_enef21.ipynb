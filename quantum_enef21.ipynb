{
 "cells": [
  {
   "cell_type": "markdown",
   "metadata": {},
   "source": [
    "\n",
    "# Hands-on Quantum Computing with Qiskit\n",
    "\n",
    "<!-- <img src=\"img/mission10000.png\" align=\"center\"> -->\n",
    "\n",
    "&nbsp;\n"
   ]
  },
  {
   "cell_type": "markdown",
   "metadata": {},
   "source": [
    "&nbsp;\n",
    "\n",
    "## Contents<a id='index'></a>\n",
    "\n",
    "&nbsp;\n",
    "\n",
    "&nbsp; &nbsp; 1. [Introduction](#introduction)\n",
    "\n",
    "&nbsp; &nbsp; 2. [Single-qubit gates](#single_gates)\n",
    "\n",
    "&nbsp; &nbsp; 3. [Multi-qubit gates](#multi_qubits)\n",
    "\n",
    "&nbsp; &nbsp; 4. [Quantum Half-Adder](#qhd)\n",
    "\n",
    "&nbsp; &nbsp; 5. [IBM Q Provider](#ibmq_provider)\n",
    "\n",
    "&nbsp; &nbsp; 6. [Quantum Teleportation](#teleport)\n",
    "\n",
    "\n",
    "&nbsp;"
   ]
  },
  {
   "cell_type": "markdown",
   "metadata": {},
   "source": [
    "&nbsp;\n",
    "\n",
    "# 1. Introduction<a id='introduction'></a>\n"
   ]
  },
  {
   "cell_type": "markdown",
   "metadata": {},
   "source": [
    "&nbsp;\n",
    "\n",
    "## QISKit - an overview<a id='qiskit_overview'></a>\n",
    "\n",
    "<img src=\"img/qiskit-heading.png\" alt=\"Note: In order for images to show up in this jupyter notebook you need to select File => Trusted Notebook\" width=\"400 px\" align=\"center\">\n",
    "\n",
    "Qiskit is an open-source framework for working with quantum computers at the level of algorithms, quantum circuits, or even pulses. It can be installed and executed locally, but to execute your code in actual, public access quantum processors, you need to create a [IBM Quantum experience](https://quantum-computing.ibm.com) account.\n",
    "\n",
    "Qiskit supports the *Python* language, which is itself compatible with multiple programming paradigms.\n",
    "\n",
    "\n",
    "The main pillar of this toolkit (which the majority of this session will feature) is **Qiskit Terra**.\n",
    "\n",
    "&nbsp;\n",
    "\n",
    "&nbsp;\n",
    "\n",
    "<div style=\"width:image width px; font-size:80%; text-align:center;\">\n",
    "    <img src=\"img/qiskit_modules.jpg\" alt=\"Qiskit and its elements\" width=\"700px\" style=\"padding-bottom:0.5em;\" />\n",
    "    Qiskit and its elements (<a href=\"https://medium.com/qiskit/qiskit-and-its-fundamental-elements-bcd7ead80492\">Source</a>)\n",
    "</div>\n",
    "\n",
    "&nbsp;\n",
    "\n",
    "\n",
    "\n",
    "As of version `0.24`, Qiskit is composed of other 3 main modules:\n",
    "\n",
    "**Aer** is a simulator framework for the stack. Note that these simulations are performed on classical computers, and so are limited by classical resources.\n",
    "\n",
    "**Ignis** is a framework for understanding and mitigating noise in quantum circuits and systems.\n",
    "\n",
    "**Aqua** provides higher-level functionality by use of a library of quantum algorithms upon which applications of near term quantum computing can be built.\n",
    "\n",
    "Qiskit is still under an intense development cycle, which means that new updates and features are added several times a year."
   ]
  },
  {
   "cell_type": "markdown",
   "metadata": {},
   "source": [
    "<div class=\"alert alert-block alert-info\">\n",
    "\n",
    "**Importing Qiskit**\n",
    "\n",
    "&nbsp;\n",
    "\n",
    "The following sections will make use of Qiskit to design and visualize circuits and quantum operations. \n",
    "\n",
    "**The execution of the code cells in this notebook requires that the relevant Qiskit modules be imported first.**\n",
    "    \n",
    "To execute a code block, select a code cell and press `SHIFT + ENTER`. Consecutive cells can be executed by repeating this command.\n",
    "\n",
    "</div>"
   ]
  },
  {
   "cell_type": "code",
   "execution_count": null,
   "metadata": {
    "ExecuteTime": {
     "end_time": "2018-09-29T00:04:16.313210Z",
     "start_time": "2018-09-29T00:04:14.460647Z"
    },
    "hideOutput": true
   },
   "outputs": [],
   "source": [
    "# Comments on code cells are preceded by '#'\n",
    "\n",
    "# Relevant QISKit modules\n",
    "\n",
    "from qiskit import QuantumCircuit, ClassicalRegister, QuantumRegister\n",
    "from qiskit import IBMQ, Aer, BasicAer, execute, transpile, assemble\n",
    "from qiskit.tools.visualization import plot_histogram, plot_bloch_multivector\n",
    "from qiskit.extensions import Initialize\n",
    "from qiskit_textbook.widgets import binary_widget\n",
    "from qiskit_textbook.tools import array_to_latex, random_state\n",
    "from qiskit.providers.ibmq import least_busy\n",
    "\n",
    "# Useful additional packages \n",
    "\n",
    "import matplotlib.pyplot as plt\n",
    "%matplotlib inline\n",
    "import numpy as np\n",
    "from math import sqrt, pi\n",
    "\n",
    "\n",
    "# Output a message to confirm all modules are imported\n",
    "\n",
    "print(\"Modules successfully imported.\")"
   ]
  },
  {
   "cell_type": "markdown",
   "metadata": {},
   "source": [
    "&nbsp;\n",
    "\n",
    "## Splitting information into bits\n",
    "\n",
    "&nbsp;\n",
    "\n",
    "Binary code uses essentially the worlds simplest alphabet. With only two characters, 0 and 1, we can represent any piece of information.\n",
    "\n",
    "One example is numbers. For example, when we write `213`, we mean\n",
    "\n",
    "$$(2\\times10^2) + (1\\times10^1) + (3\\times10^0) $$\n",
    "\n",
    "Though we usually use this system based on the number 10, we can just as easily use one based on any other number. In binary, 213 becomes `11010101`, since\n",
    "\n",
    "\n",
    "$$ 213  = (1 \\times 2^7) + (1 \\times 2^6) + (0 \\times 2^5) + (1 \\times 2^4) + (0 \\times 2^3) + (1 \\times 2^2) + (0 \\times 2^1) + (1 \\times 2^0) $$\n",
    "\n",
    "\n",
    "\n",
    "In this we are expressing numbers as multiples of 2, 4, 8, 16, 32 instead of 10, 100, 1000, etc.\n",
    "\n",
    "&nbsp;"
   ]
  },
  {
   "cell_type": "code",
   "execution_count": null,
   "metadata": {},
   "outputs": [],
   "source": [
    "binary_widget(nbits=8)"
   ]
  },
  {
   "cell_type": "markdown",
   "metadata": {},
   "source": [
    "&nbsp;\n",
    "\n",
    "## The quantum bit<a id='quantum_bit'></a>\n",
    "\n",
    "&nbsp;\n",
    "\n",
    "### A physical qubit\n",
    "\n",
    "Any quantum system with two orthogonal states can be used to represent a quantum bit, or *qubit* for short.\n",
    "\n",
    "<img src=\"img/h_atom.png\" width=\"200px\" align=\"center\">\n",
    "\n",
    "\n",
    "\n",
    "\n",
    "How can we represent quantum states and associated operations?"
   ]
  },
  {
   "cell_type": "markdown",
   "metadata": {},
   "source": [
    "&nbsp;\n",
    "\n",
    "### Qubit notation\n",
    "\n",
    "Classical bits always have a completely well-defined state: they are either `0` or `1` at every point during a computation. To write down the state of a of classical bit (`c`), we can just use these two binary values. For example:\n",
    "\n",
    "    c = 0\n",
    "\n",
    "This restriction is lifted for quantum bits. Whether we get a `0` or a `1` from a qubit only needs to be well-defined when a measurement is made to extract an output. At that point, it must commit to one of these two options. At all other times, its state will be something more complex than can be captured by a simple binary value.\n",
    "\n",
    "\n",
    "It is possible to prepare a qubit in a state for which it definitely gives the outcome `0` when measured. We need a name for this state. Let's call it $0$ . Similarly, there exists a qubit state that is certain to output a `1`. We'll call this $1$. These two states are completely mutually exclusive. Either the qubit definitely outputs a ```0```, or it definitely outputs a ```1```. There is no overlap. One way to represent this with mathematics is to use two orthogonal vectors.\n",
    "\n",
    "&nbsp;\n",
    "\n",
    "$$\n",
    "|0\\rangle = \\begin{bmatrix} 1 \\\\ 0 \\end{bmatrix} \\, \\, \\, \\, |1\\rangle =\\begin{bmatrix} 0 \\\\ 1 \\end{bmatrix}.\n",
    "$$\n",
    "\n",
    "&nbsp;\n",
    "\n",
    "First, let's unpack the weird $|$ and $\\rangle$. Their job is essentially just to remind us that we are talking about the vectors that represent qubit states labelled $0$ and $1$. This helps us distinguish them from things like the bit values ```0``` and ```1``` or the numbers 0 and 1.\n",
    "\n",
    "\n",
    "&nbsp;\n",
    "\n",
    "A single qubit quantum state $|\\psi\\rangle$ can be written as a superposition of its basis states, which by convention are generally named $|0\\rangle$ and $|1\\rangle$.\n",
    "\n",
    "$$|\\psi\\rangle = \\alpha|0\\rangle + \\beta |1\\rangle$$\n",
    "\n",
    "Here, $\\alpha$ and $\\beta$ are probability amplitudes generally described by [complex numbers](https://www.scottaaronson.com/blog/?p=4021). When the qubit is measured, the quantum system \"collapses\" to the state $|0\\rangle$ with probability $|\\alpha|^2$, or to the state $|1\\rangle$ with probability $|\\beta|^2$. **As such, the sum of squared amplitudes of a quantum state is 1:** \n",
    "\n",
    "&nbsp;\n",
    "\n",
    "$$|\\alpha|^2 + |\\beta|^2 = 1$$\n",
    "\n",
    "&nbsp;\n",
    "\n",
    "$|\\psi\\rangle$ can also be represented as a column vector of coefficients of basis states:\n",
    "\n",
    "&nbsp;\n",
    "\n",
    "$$\n",
    "|\\psi\\rangle =  \n",
    "\\begin{bmatrix}\n",
    "\\alpha \\\\\n",
    "\\beta\n",
    "\\end{bmatrix}.\n",
    "$$"
   ]
  },
  {
   "cell_type": "markdown",
   "metadata": {},
   "source": [
    "&nbsp;\n",
    "\n",
    "<div class=\"alert alert-block alert-info\">\n",
    "    \n",
    "**Building your first quantum circuit**\n",
    "\n",
    "&nbsp;\n",
    "\n",
    "In Qiskit `0.24`, a `QuantumCircuit(q,b)` object needs to be defined, together with the number `q` of qubits. To perform measurements, we also need to define `b`, the number of bits to contain the results of the measurement. \n",
    "\n",
    "&nbsp;\n",
    "\n",
    "In a quantum circuit, each qubit is initialized in the state $|0\\rangle$ by default. The method `initialize(array, q)` takes an `array` representing a statevector, and initializes qubit `q` in that state.\n",
    "\n",
    "&nbsp;\n",
    "\n",
    "The measurement operation `measure(q_i, b_j)` is called by specifying the correspondence between qubit `i` to be measured, and the bit `j` which is to store the measurement value. Alternatively, `measure_all()` automatically measures all qubits in the circuit.\n",
    "\n",
    "&nbsp;\n",
    "\n",
    "A complete circuit can be visualized graphically by calling the `draw` method.\n",
    "\n",
    "</div>"
   ]
  },
  {
   "cell_type": "code",
   "execution_count": null,
   "metadata": {},
   "outputs": [],
   "source": [
    "# Set numbet of qubits and bits\n",
    "n_qubits = 1\n",
    "n_bits = n_qubits\n",
    "\n",
    "# Quantum circuit\n",
    "qc = QuantumCircuit(n_qubits, n_bits)\n",
    "\n",
    "# Optional: set initial state (|0> by default)\n",
    "#initial_state = [1/sqrt(2),1/sqrt(2)]\n",
    "#qc.initialize(initial_state, 0)\n",
    "\n",
    "# Measure qubits\n",
    "for i in range(n_qubits):\n",
    "    qc.measure(i,i)\n",
    "\n",
    "# Draw circuit \n",
    "qc.draw(output='mpl')"
   ]
  },
  {
   "cell_type": "markdown",
   "metadata": {},
   "source": [
    "&nbsp;\n",
    "\n",
    "<div class=\"alert alert-block alert-info\">\n",
    "    \n",
    "**Simulating measurements in a quantum circuit**\n",
    "    \n",
    "&nbsp;\n",
    "\n",
    "The **Aer** component allows for the simulation of the execution and measurement of a quantum circuit, locally, for a small number of qubits, using the `qasm_simulator`.\n",
    "\n",
    "&nbsp;\n",
    "\n",
    "For that, we need to call the simulator using the `BasicAer.get_backend` method. We then define a *job*, i.e. the task assigned to a specific backend - simulator or real quantum processor - by calling the function `execute(qc, backend, shots)`, where `qc` is the quantum circuit to be executed, `backend` is the execution backend, and `shots` is the number of executions to be performed.\n",
    "\n",
    "&nbsp;\n",
    "\n",
    "After the job is executed, we can extract a `result()`, which allows us to get the measurement result frequencies with `get_counts()`, and, from that, plot an histogram of probabilities with the function `plot_histogram(counts)`.\n",
    "\n",
    "\n",
    "</div>"
   ]
  },
  {
   "cell_type": "code",
   "execution_count": null,
   "metadata": {},
   "outputs": [],
   "source": [
    "sim_backend = BasicAer.get_backend(\"qasm_simulator\")\n",
    "\n",
    "job = execute(qc, sim_backend, shots=1000)\n",
    "\n",
    "counts = job.result().get_counts()\n",
    "\n",
    "print(counts)\n",
    "\n",
    "plot_histogram(counts)"
   ]
  },
  {
   "cell_type": "markdown",
   "metadata": {},
   "source": [
    "&nbsp; \n",
    "\n",
    "### Rules of measurement - the observer effect\n",
    "\n",
    "&nbsp;\n",
    "\n",
    "We know that the amplitudes contain information about the probability of us finding the qubit in a specific state, but once we have measured the qubit, we know with certainty what the state of the qubit is. For example, if we measure a qubit in the state:\n",
    "\n",
    "&nbsp;\n",
    "\n",
    "$$ |q\\rangle = \\alpha|0\\rangle + \\beta|1\\rangle$$\n",
    "\n",
    "&nbsp;\n",
    "\n",
    "And find it in the state $|0\\rangle$, if we measure again, there is a 100% chance of finding the qubit in the state $|0\\rangle$. This means the act of measuring _changes_ the state of our qubits.\n",
    "\n",
    "&nbsp;\n",
    "\n",
    "$$ |q\\rangle = \\begin{bmatrix} \\alpha \\\\ \\beta \\end{bmatrix} \\xrightarrow{\\text{Measure }|0\\rangle} |q\\rangle = |0\\rangle = \\begin{bmatrix} 1 \\\\ 0 \\end{bmatrix}$$\n",
    "\n",
    "&nbsp;\n",
    "\n",
    "We sometimes refer to this as _collapsing_ the state of the qubit. After measurement, qubits are no different from classical bits and our computation can be easily replaced by a classical computation. To achieve truly quantum computation we must allow the qubits to explore more complex states. \n",
    "\n",
    "**Measurements are therefore only used when we need to extract an output.** This means that we often place all the measurements at the end of our quantum circuit. \n",
    "\n",
    "\n",
    "&nbsp;"
   ]
  },
  {
   "cell_type": "markdown",
   "metadata": {},
   "source": [
    "<div class=\"alert alert-block alert-info\">\n",
    "    \n",
    "**Statevector simulator**\n",
    "\n",
    "&nbsp;\n",
    "\n",
    "Quantum states can be verified through **Aer** simulators, such as the `statevector_simulator`. This simulator is able to determine the vector describing the state of all qubits at a given point.\n",
    "\n",
    "&nbsp;\n",
    "\n",
    "To use it, we only need to define the the statevector simulator as our execution backend.\n",
    "\n",
    "&nbsp;\n",
    "\n",
    "**Note**: To get accurate results from the statevector simulator, no measurement operations can be applied to the circuit, since measurements collapse superposition states into deterministic ones.\n",
    "\n",
    "</div>"
   ]
  },
  {
   "cell_type": "code",
   "execution_count": null,
   "metadata": {},
   "outputs": [],
   "source": [
    "# Single-qubit circuit\n",
    "qc = QuantumCircuit(1)\n",
    "\n",
    "# Initialize qubit in superposition\n",
    "#initial_state = [1/sqrt(2),1/sqrt(2)]\n",
    "#qc.initialize(initial_state, 0)\n",
    "\n",
    "# What if we measure before getting the state?\n",
    "#qc.measure(0,0)\n",
    "\n",
    "# Get statevector simulator backend\n",
    "sv_backend = Aer.get_backend(\"statevector_simulator\")\n",
    "\n",
    "# Get statevector from simulator, display it\n",
    "statevector = execute(qc, sv_backend).result().get_statevector()\n",
    "array_to_latex(statevector, pretext=\"\\\\text{Statevector} = \")\n"
   ]
  },
  {
   "cell_type": "markdown",
   "metadata": {},
   "source": [
    "&nbsp;\n",
    "\n",
    "### Bloch sphere - a visual representation of a qubit state\n",
    "\n",
    "&nbsp;\n",
    "\n",
    "The absolute squares of the probability amplitudes, $|\\alpha|^2$ and $|\\beta|^2$, represent the probability of the corresponding measurement outcome. A basic rule for probability is that the probabilities of all possible outcomes must add up to $1$, so it follows that $\\alpha$ and $\\beta$ must be constrained by the equation:\n",
    "\n",
    "$$|\\alpha|^2+ |\\beta|^2 = 1$$\n",
    "\n",
    "Ignoring the global phase of a qubit, only two real numbers are required to describe a single qubit quantum state. A convenient representation is\n",
    "\n",
    "$$|\\psi\\rangle = \\cos(\\theta/2)|0\\rangle + \\sin(\\theta/2)e^{i\\phi}|1\\rangle$$\n",
    "\n",
    "where $0\\leq \\phi < 2\\pi$, and $0\\leq \\theta \\leq \\pi$.  \n",
    "\n",
    "It is then possible to create a one-to-one correspondence between a qubit state ($\\mathbb{C}^2$) and the points on the surface of a unit sphere ($\\mathbb{R}^3$). This is called the Bloch sphere representation of a qubit state.\n",
    "\n",
    "<img src=\"img/Bloch_sphere.png\" alt=\"\" width=\"300 px\" align=\"center\">\n",
    "\n",
    "By contrast, a representation of a classical bit over the Bloch sphere would only require the two points of the sphere intersecting the Z axis."
   ]
  },
  {
   "cell_type": "code",
   "execution_count": null,
   "metadata": {},
   "outputs": [],
   "source": [
    "# Draw Bloch sphere from statevector\n",
    "plot_bloch_multivector(statevector)"
   ]
  },
  {
   "cell_type": "markdown",
   "metadata": {},
   "source": [
    "&nbsp;\n",
    "\n",
    "# 2. Single qubit operations<a id='single_gates'></a>\n",
    "\n",
    "&nbsp;\n",
    "\n",
    "Quantum gates/operations are generally expressed as matrices. The action of the quantum gate on the qubit is determined by multiplying the matrix representing the gate with the vector which represents the quantum state.\n",
    "\n",
    "$$|\\psi'\\rangle = U|\\psi\\rangle$$\n",
    "\n",
    "Some of the single-qubit operations available are:\n",
    "\n",
    "- Pauli gates\n",
    "- Hadamard gate\n",
    "- Measurement gates\n"
   ]
  },
  {
   "cell_type": "markdown",
   "metadata": {},
   "source": [
    "## Pauli gates\n",
    "\n",
    "#### Gate $X$: bit-flip gate \n",
    "\n",
    "The X-gate is also known as NOT gate or “bit-flip”, since it changes a state $| 0 \\rangle $ to $| 1 \\rangle $ and vice versa. **This is the quantum analogue to a classical NOT gate.**\n",
    "\n",
    "On the Bloch sphere representation, this operation corresponds to a rotation of the state around the X-axis by $\\pi$ radians.\n",
    "\n",
    "<div style=\"width:image width px; font-size:80%; text-align:center;\">\n",
    "    <img src=\"img/xbloch.png\" width=\"600 px\" style=\"padding-bottom:0.5em;\" />\n",
    "    (<a href=\"https://qiskit.github.io/ibmqx-user-guides/beginners-guide/005-Single-Qubit_Gates/001-Single-Qubit_Gates.html\">Source</a>)\n",
    "</div>\n",
    "\n",
    "\n",
    "\n",
    "#### $Y$: bit-and-phase-flip gate\n",
    "\n",
    "It is equivalent to a rotation around Y-axis of the Bloch sphere by $\\pi$ radians.\n",
    "This gate maps $| 0 \\rangle $ to $i | 1 \\rangle $, and $| 1 \\rangle$ to $ - i | 0 \\rangle$\n",
    "\n",
    "#### $Z$: phase-flip gate\n",
    "\n",
    "It leaves the basis state $|0 \\rangle $ unchanged, while mapping $| 1 \\rangle$ to $- | 1 \\rangle $.\n",
    "\n",
    "&nbsp;\n",
    "\n",
    "\n",
    "<div class=\"alert alert-block alert-info\">\n",
    "    \n",
    "**Implementing and testing Pauli gates**\n",
    "\n",
    "&nbsp;\n",
    "\n",
    "Pauli gates can be implemented on a quantum circuit `qc`, qubit `q_i`, by applying the methods `qc.x(q_i)`, `qc.y(q_i)`, and `qc.z(q_i)` to implement the `X`, `Y` and `Z` gates, respectively.\n",
    "\n",
    "&nbsp;\n",
    "\n",
    "Implement the gates on the quantum circuit below, and check results by executing the circuit with the `statevector_simulator` and `qasm_simulator`. Test how results change after you apply the gates multiple times.\n",
    "\n",
    "&nbsp;\n",
    "\n",
    "**Note**: Qiskit displays measurement results in little endian - this means for a circuit with 3 qubits, `q0`, `q1` and `q2`, measurement results would be read as `q2 q1 q0`.\n",
    "\n",
    "&nbsp;\n",
    "\n",
    "</div>"
   ]
  },
  {
   "cell_type": "code",
   "execution_count": null,
   "metadata": {},
   "outputs": [],
   "source": [
    "# Define quantum circuit qc_pauli with 3 qubits, 3 bits\n",
    "qc_pauli = QuantumCircuit(3,3)\n",
    "\n",
    "# Apply Pauli gates\n",
    "qc_pauli.x(0)\n",
    "qc_pauli.y(1)\n",
    "qc_pauli.z(2)\n",
    "\n",
    "# Draw the circuit\n",
    "qc_pauli.draw(output='mpl')"
   ]
  },
  {
   "cell_type": "code",
   "execution_count": null,
   "metadata": {},
   "outputs": [],
   "source": [
    "# Execute circuit with the statevector simulator\n",
    "result_pauli = execute(qc_pauli, sv_backend).result()\n",
    "\n",
    "# Get statevector representation\n",
    "vector_pauli = result_pauli.get_statevector(qc_pauli)\n",
    "\n",
    "# Draw Bloch sphere\n",
    "plot_bloch_multivector(vector_pauli)"
   ]
  },
  {
   "cell_type": "code",
   "execution_count": null,
   "metadata": {
    "scrolled": true
   },
   "outputs": [],
   "source": [
    "# Add measurement gates\n",
    "qc_pauli.measure([0,1,2],[0,1,2]);\n",
    "\n",
    "# Simulate measurements\n",
    "job = execute(qc_pauli, sim_backend, shots=1000)\n",
    "counts = job.result().get_counts()\n",
    "\n",
    "print(counts)\n",
    "plot_histogram(counts)"
   ]
  },
  {
   "cell_type": "markdown",
   "metadata": {},
   "source": [
    "## Hadamard gate"
   ]
  },
  {
   "cell_type": "markdown",
   "metadata": {},
   "source": [
    "The Hadamard gate may be used to create **superposition**. It maps the basis state $| 0 \\rangle$ to $| + \\rangle =\\frac{| 0 \\rangle + | 1 \\rangle }{\\sqrt{2}}$, and $| 1 \\rangle $ to $ | - \\rangle =\\frac{ |0 \\rangle - |1 \\rangle }{\\sqrt{2}}$. On the Bloch sphere, $| + \\rangle$ and $| - \\rangle $ are represented by points on the X axis. \n",
    "\n",
    "When measured, these states have equal probability of becoming $| 1\\rangle $ or $| 0 \\rangle $, since the square modulus of the probability amplitude for each of the basis states has equal value.\n",
    "\n",
    "<div style=\"width:image width px; font-size:80%; text-align:center;\">\n",
    "    <img src=\"img/hbloch.png\" width=\"600 px\" style=\"padding-bottom:0.5em;\" />\n",
    "    (<a href=\"https://qiskit.github.io/ibmqx-user-guides/beginners-guide/005-Single-Qubit_Gates/002-Creating_superposition.html\">Source</a>)\n",
    "</div>\n",
    "\n",
    "In fact, $|+\\rangle $ and $| - \\rangle $ **are indistinguishable when measured on the computational basis**. However, the states can be identified by measuring the qubit on the superposition basis, i.e. along the X-axis. A way to achieve this is by simply applying an Hadamard gate before performing the measurement.\n",
    "\n",
    "**Note**: The Hadamard gate, along with the X, Y and Z gates, is self-inverse: $H.H = I$.\n",
    "\n",
    "&nbsp;\n",
    "\n",
    "<div class=\"alert alert-block alert-info\">\n",
    "\n",
    "**Implementing and testing the Hadamard gate**\n",
    "\n",
    "&nbsp;\n",
    "\n",
    "The Hadamard can be implemented on a quantum circuit `qc`, qubit `q_i`, by applying the method `qc.h(q_i)`.\n",
    "\n",
    "&nbsp;\n",
    "\n",
    "Implement the gate on the quantum circuit below, and check results by executing the circuit with the `statevector_simulator` and `qasm_simulator`. Check the results for different amounts of qubits.\n",
    "\n",
    "&nbsp;\n",
    "\n",
    "**Note**: QuantumCircuit objects may also be instantiated using arbitrary lists of labeled qubits, called quantum registers. The same can be done for bits using classical registers. This is helpful to program more advanced quantum routines/algorithms.\n",
    "\n",
    "\n",
    "</div>\n",
    "\n",
    "&nbsp;"
   ]
  },
  {
   "cell_type": "code",
   "execution_count": null,
   "metadata": {},
   "outputs": [],
   "source": [
    "# Define QuantumRegister(n) qr and ClassicalRegister(n) cr, each with n qubits/bits\n",
    "n = 1\n",
    "qr = QuantumRegister(n)\n",
    "cr = ClassicalRegister(n)\n",
    "\n",
    "# Define QuantumCircuit\n",
    "qc_h = QuantumCircuit(qr,cr)\n",
    "\n",
    "# Apply Hadamard gate\n",
    "qc_h.h(qr)\n",
    "\n",
    "# Draw the circuit\n",
    "qc_h.draw(output='mpl')"
   ]
  },
  {
   "cell_type": "code",
   "execution_count": null,
   "metadata": {},
   "outputs": [],
   "source": [
    "# Get statevector from simulator\n",
    "result_h = execute(qc_h, sv_backend).result()\n",
    "bloch_h = result_h.get_statevector(qc_h)\n",
    "array_to_latex(bloch_h, pretext=\"\\\\text{Statevector} = \")"
   ]
  },
  {
   "cell_type": "code",
   "execution_count": null,
   "metadata": {},
   "outputs": [],
   "source": [
    "# Draw Bloch sphere from statevector\n",
    "plot_bloch_multivector(bloch_h)"
   ]
  },
  {
   "cell_type": "code",
   "execution_count": null,
   "metadata": {},
   "outputs": [],
   "source": [
    "# Add measurement gates\n",
    "qc_h.measure(qr,cr)\n",
    "\n",
    "# Simulate measurements\n",
    "job = execute(qc_h, sim_backend, shots=1000)\n",
    "counts = job.result().get_counts()\n",
    "print(counts)\n",
    "plot_histogram(counts)"
   ]
  },
  {
   "cell_type": "markdown",
   "metadata": {},
   "source": [
    "<div class=\"alert alert-block alert-info\">\n",
    "\n",
    "**Gates and basis**\n",
    "\n",
    "&nbsp;\n",
    "\n",
    "The below diagram is a useful shorthand for quantum states conversion using quantum gates. It also depicts how quantum operations are reversible. A qubit in any of the four states $|0\\rangle$, $|1\\rangle$, $|-\\rangle$, $|+\\rangle$  can be converted to any other performing simple one qubit gates.\n",
    "\n",
    "&nbsp;\n",
    "\n",
    "<img src=\"img/h_x_z.png\" alt=\"\" width=\"400 px\" align=\"center\">                                                                                                  \n",
    "\n",
    "&nbsp;\n",
    "\n",
    "The diagram shows how the Hadamard gate can switch qubits between the computational ($|0\\rangle$ and $|1\\rangle$) and superposition ($|+\\rangle$ and $|-\\rangle$) bases. It also shows how the Pauli-Z gate is the bit-flip equivalent of the X gate in the superposition basis:\n",
    "\n",
    "&nbsp;\n",
    "\n",
    "$$ X = H.Z.H$$\n",
    "\n",
    "&nbsp;\n",
    "\n",
    "**Generalized single-qubit gates**\n",
    "\n",
    "&nbsp;\n",
    "\n",
    "Qiskit allows for the implementation of many other single-qubit gates, including user-defined gates, such as unitary gate `u3(theta, phi, lambda)` which is able to perform any \"rotation\" of the qubit as represented on the bloch sphere. \n",
    "\n",
    "`u3` follows the expression:\n",
    "\n",
    "$$ U3(\\theta, \\phi, \\lambda) = R_Z (\\phi) R_X(-\\pi/2) R_Z (\\theta) R_X (\\pi/2) R_Z (\\lambda)$$\n",
    "\n",
    "\n",
    "</div>\n",
    "\n",
    "&nbsp;"
   ]
  },
  {
   "cell_type": "markdown",
   "metadata": {},
   "source": [
    "&nbsp;\n",
    "\n",
    "# 3. Multi-qubit operations<a id='multi_qubits'></a>\n",
    "\n",
    "&nbsp;\n",
    "\n",
    "\n",
    "### Statevectors\n",
    "\n",
    "\n",
    "In quantum physics we use _statevectors_ to describe the state of our system. Say we wanted to describe the position of a car along a track, this is a classical system so we could use a number $x$:\n",
    "\n",
    "<img src=\"img/car_track_1.jpg\" width=\"600px\" align=\"center\">\n",
    "\n",
    "$$ x=4 $$\n",
    "\n",
    "Alternatively, we could instead use a collection of numbers in a vector called a  _statevector._ Each element in the statevector contains the probability of finding the car in a certain place:\n",
    "\n",
    "<img src=\"img/car_track_2.jpg\" width=\"600px\" align=\"center\">\n",
    "\n",
    "$$\n",
    "|x\\rangle = \\begin{bmatrix} 0\\\\ \\vdots \\\\ 0 \\\\ 1 \\\\ 0 \\\\ \\vdots \\\\ 0 \\end{bmatrix} \n",
    "            \\begin{matrix} \\\\  \\\\  \\\\ \\leftarrow \\\\  \\\\  \\\\  \\\\ \\end{matrix}\n",
    "             \\begin{matrix} \\\\  \\\\ \\text{Probability of} \\\\ \\text{car being at} \\\\ \\text{position 4} \\\\  \\\\  \\\\ \\end{matrix}   \n",
    "$$\n",
    "\n",
    "This isn’t limited to position, we could also keep a statevector of all the possible speeds the car could have, and all the possible colours the car could be. With classical systems (like the car example above), this is a silly thing to do as it requires keeping huge vectors when we only really need one number. However, statevectors happen to be a very good way of keeping track of quantum systems, including quantum computers.\n",
    "\n",
    "\n",
    "&nbsp;\n",
    "\n",
    "Multiple qubits can be described with the ket notation. The tensor product is typically implicit; for a state composed of qubits $q_0$, $q_1$ and $q_2$:\n",
    "\n",
    "\n",
    "&nbsp;\n",
    "\n",
    "$$\n",
    "|q_2\\rangle \\otimes |q_1\\rangle \\otimes |q_0\\rangle =  |q_2\\rangle |q_1\\rangle |q_0\\rangle = |q_2 q_1 q_0\\rangle\n",
    "$$\n",
    "\n",
    "&nbsp;\n",
    "\n",
    "For $q_2=1,\\, q_1=0,\\, q_0=0$ we would use the ket notation $|q_2 q_1 q_0\\rangle = |100\\rangle$ with statevector representation:\n",
    "\n",
    "&nbsp;\n",
    "\n",
    "$$|100\\rangle = \\begin{bmatrix} 0 \\\\ 0 \\\\ 0 \\\\ 0 \\\\ 1 \\\\ 0 \\\\ 0 \\\\ 0 \\end{bmatrix}$$\n",
    "\n",
    "\n",
    "&nbsp;\n",
    "\n"
   ]
  },
  {
   "cell_type": "markdown",
   "metadata": {},
   "source": [
    "## CNOT gate \n",
    "\n",
    "&nbsp;\n",
    "\n",
    "The controlled-NOT (or controlled-$X$) gate is a conditional gate that performs an $X$-gate on the second qubit (target) if the state of the first qubit (control) is $|1\\rangle$. \n",
    "\n",
    "The CNOT gate is graphically represented as a $\\oplus$ on the target qubit, connected to a control qubit denoted as $\\bullet$.\n",
    "\n",
    "&nbsp;"
   ]
  },
  {
   "cell_type": "code",
   "execution_count": null,
   "metadata": {
    "scrolled": true
   },
   "outputs": [],
   "source": [
    "# Create QuantumCircuit with quantum and classical registers\n",
    "qc_cx = QuantumCircuit(2)\n",
    "\n",
    "# CNOT gate\n",
    "qc_cx.cx(0,1)\n",
    "\n",
    "qc_cx.draw(output='mpl')"
   ]
  },
  {
   "cell_type": "markdown",
   "metadata": {},
   "source": [
    "&nbsp;\n",
    "\n",
    "<div class=\"alert alert-block alert-info\">\n",
    "\n",
    "**Implementing the CNOT gate**\n",
    "\n",
    "&nbsp;\n",
    "\n",
    "The CNOT can be implemented on a quantum circuit `qc`, qubit `q_c` as control and qubit `q_t` as target, by applying the method `qc.cx(q_c, q_t)`.\n",
    "\n",
    "&nbsp;\n",
    "\n",
    "When our qubits are not in superposition of $|0\\rangle$ and $|1\\rangle$ (behaving as classical bits), the CNOT is easy to understand. Complete the truth table below by applying the CNOT over different input states.\n",
    "\n",
    "</div>\n"
   ]
  },
  {
   "cell_type": "markdown",
   "metadata": {},
   "source": [
    "\n",
    "\n",
    "|input    |            |output     |            |\n",
    "|---------|------------|-----------|------------|\n",
    "|q0 (ctrl)| q1 (target)| q0 (ctrl) | q1 (target)|\n",
    "|   0     | 0          |    0      |   0        |\n",
    "|   1     | 0          |    -      |   -        |\n",
    "|   0     | 1          |    -      |   -        |\n",
    "|   1     | 1          |    -      |   -        |"
   ]
  },
  {
   "cell_type": "code",
   "execution_count": null,
   "metadata": {},
   "outputs": [],
   "source": [
    "# Create registers and quantum circuit\n",
    "qr = QuantumRegister(2)\n",
    "cr = ClassicalRegister(2)\n",
    "qc_cnot = QuantumCircuit(qr,cr)\n",
    "\n",
    "# Change input qubits\n",
    "\n",
    "\n",
    "# Apply CNOT\n",
    "qc_cnot.cx(qr[0], qr[1])\n",
    "\n",
    "# Measure qubits\n",
    "qc_cnot.measure(qr,cr)\n",
    "\n",
    "# Draw the circuit\n",
    "qc_cnot.draw(output='mpl')"
   ]
  },
  {
   "cell_type": "code",
   "execution_count": null,
   "metadata": {},
   "outputs": [],
   "source": [
    "# Simulate measurements\n",
    "job = execute(qc_cnot, sim_backend, shots=1000)\n",
    "counts = job.result().get_counts()\n",
    "print(counts)\n",
    "plot_histogram(counts)"
   ]
  },
  {
   "cell_type": "markdown",
   "metadata": {},
   "source": [
    "&nbsp;\n",
    "\n",
    "### Entangling qubits\n",
    "\n",
    "&nbsp;\n",
    "\n",
    "What if the control qubit is in a superposition state?"
   ]
  },
  {
   "cell_type": "code",
   "execution_count": null,
   "metadata": {},
   "outputs": [],
   "source": [
    "# Create registers and quantum circuit\n",
    "qr = QuantumRegister(2)\n",
    "cr = ClassicalRegister(2)\n",
    "qc_cnot = QuantumCircuit(qr,cr)\n",
    "\n",
    "# Apply Hadamard to control qubit\n",
    "qc_cnot.h(qr[0])\n",
    "\n",
    "# Apply CNOT\n",
    "qc_cnot.cx(qr[0], qr[1])\n",
    "\n",
    "# Get statevector\n",
    "result_cnot = execute(qc_cnot, sv_backend).result()\n",
    "sv_cnot = result_cnot.get_statevector(qc_cnot)\n",
    "array_to_latex(sv_cnot, pretext=\"\\\\text{Statevector} = \")"
   ]
  },
  {
   "cell_type": "code",
   "execution_count": null,
   "metadata": {},
   "outputs": [],
   "source": [
    "# Simulate measurements\n",
    "qc_cnot.measure(qr,cr)\n",
    "job = execute(qc_cnot, sim_backend, shots=1000)\n",
    "counts = job.result().get_counts()\n",
    "print(counts)\n",
    "plot_histogram(counts)"
   ]
  },
  {
   "cell_type": "markdown",
   "metadata": {},
   "source": [
    "&nbsp;\n",
    "\n",
    "We see we have the state:\n",
    "\n",
    "$$\n",
    "\\text{CNOT}|q_1 q_0\\rangle = \\tfrac{1}{\\sqrt{2}}(|00\\rangle + |11\\rangle)\n",
    "$$ \n",
    "\n",
    "This state is very interesting to us, because it is _entangled._\n",
    "\n",
    "\n",
    "\n",
    "\n",
    "\n",
    "&nbsp;\n",
    "\n",
    "<div class=\"alert alert-block alert-info\">\n",
    "    \n",
    "What about **entanglement**? </p>\n",
    "\n",
    "&nbsp;\n",
    "\n",
    "This combined state cannot be written as two separate qubit states, which has interesting implications. Although our qubits are in superposition, measuring one will tell us the state of the other and collapse its superposition. For example, if we measured the top qubit and got the state $|1\\rangle$, the collective state of our qubits changes like so:\n",
    "\n",
    "&nbsp;\n",
    "\n",
    "$$\n",
    "\\tfrac{1}{\\sqrt{2}}(|00\\rangle + |11\\rangle) \\quad \\xrightarrow[]{\\text{measure}} \\quad |11\\rangle\n",
    "$$\n",
    "\n",
    "&nbsp;\n",
    "\n",
    "Even if we separated these qubits light-years away, measuring one qubit collapses the superposition and appears to have an immediate effect on the other. This is the [‘spooky action at a distance’](https://en.wikipedia.org/wiki/Quantum_nonlocality) that upset so many physicists in the early 20th century.\n",
    "\n",
    "&nbsp;\n",
    "\n",
    "</div>\n",
    "\n",
    "&nbsp;"
   ]
  },
  {
   "cell_type": "markdown",
   "metadata": {},
   "source": [
    "### Other multi-qubit operations\n",
    "\n",
    "General single qubit gates together with the $CNOT$ allow for universal quantum computations, i.e. it is possible to decompose any quantum operations over $n$ qubits to arbitrary precision, using only this set of gates. How to efficiently determine and perform such a decomposition, however, is not a trivial problem.\n",
    "    \n",
    "Other notable operators:\n",
    "\n",
    "- __SWAP gate__, which exchanges the state between two qubits;\n",
    "\n",
    "- __Toffoli gate__ (or **CCNOT**), which performs a NOT operations on a target qubit, using two other qubits as controls."
   ]
  },
  {
   "cell_type": "code",
   "execution_count": null,
   "metadata": {},
   "outputs": [],
   "source": [
    "# Create registers and quantum circuit\n",
    "qr = QuantumRegister(3)\n",
    "qc_mq = QuantumCircuit(qr)\n",
    "\n",
    "# Apply Toffoli - first two arguments are the controls\n",
    "qc_mq.ccx(qr[0], qr[1], qr[2])\n",
    "\n",
    "# Swap two qubits\n",
    "qc_mq.swap(qr[1], qr[2])\n",
    "\n",
    "# Draw the circuit\n",
    "qc_mq.draw(output='mpl')"
   ]
  },
  {
   "cell_type": "markdown",
   "metadata": {},
   "source": [
    "&nbsp;\n",
    "\n",
    "<div class=\"alert alert-block alert-info\">\n",
    "    \n",
    "**Generalized qubit operations**\n",
    "\n",
    "&nbsp;\n",
    "\n",
    "Qiskit allows for many other multi-qubit operations, including matrix-defined operations that are subsequently decomposed into the physical instruction set accepted by IBM's quantum chips. This set is comprised simply of `CNOT` and generalized single-qubit gates - and is called a _universal gate set,_ since any operation can be decomposed using the set.\n",
    "\n",
    "&nbsp;\n",
    "\n",
    "The decomposition is realized at compiling time. **Efficient compilation of arbitrary quantum operations is an active area of research in quantum computing.**\n",
    "\n",
    "\n",
    "&nbsp;\n",
    "\n",
    "</div>\n",
    "\n",
    "&nbsp;"
   ]
  },
  {
   "cell_type": "markdown",
   "metadata": {},
   "source": [
    "\n",
    "## 4. Computation as a diagram: a quantum half-adder<a id='qhd'></a>\n",
    "\n",
    "&nbsp;\n",
    "\n",
    "The half adder produces the addition of bits. Classicaly, the inputs **A** and **B** are added, and give the output **S** (sum) and **C** (carry), a bit that flips from $0$ to $1$ if both inputs are $1$.\n",
    "\n",
    "\n",
    "\n",
    "<img src=\"img/Half_Adder.png\" alt=\"\" width=\"400 px\" align=\"center\">\n",
    "\n",
    "&nbsp;\n",
    "\n",
    "The truth table of inputs and outputs is below; consider that $q_0$ is left unchanged after the block, and $q_2$ is in the state $|0\\rangle$ at input.\n",
    "\n",
    "\n",
    "<table>\n",
    "  <tr>\n",
    "    <th>$q_0$ (input) = A</th>\n",
    "    <th>$q_1$ (input) = B</th>\n",
    "    <th>$q_1$ (output) = S</th>\n",
    "    <th>$q_2$ (output) = C</th>\n",
    "  </tr>\n",
    "  <tr>\n",
    "    <td>0</td>\n",
    "    <td>0</td>\n",
    "    <td>0</td>\n",
    "    <th>0</th>\n",
    "  </tr>\n",
    "  <tr>\n",
    "    <td>1</td>\n",
    "    <td>0</td>\n",
    "    <td>1</td>\n",
    "    <td>0</td>\n",
    "  </tr>\n",
    "  <tr>\n",
    "    <td>0</td>\n",
    "    <td>1</td>\n",
    "    <td>1</td>\n",
    "    <td>0</td>\n",
    "  </tr>\n",
    "  <tr>\n",
    "    <td>1</td>\n",
    "    <td>1</td>\n",
    "    <td>0</td>\n",
    "    <td>1</td>\n",
    "  </tr>\n",
    "</table>\n",
    "\n",
    "\n",
    "To build the equivalent block with quantum circuits, we will need 3 qubits, which is the minimum number of qubits to guarantee that this block is reversible. \n",
    "\n",
    "\n",
    "\n",
    "<img src=\"img/q_half_add.png\" alt=\"\" width=\"400 px\" align=\"center\">\n",
    "\n",
    "<div class=\"alert alert-block alert-info\">\n",
    "\n",
    "**Building a quantum half-adder**\n",
    "\n",
    "&nbsp;\n",
    "\n",
    " 1. Using $CNOT$ and/or ***Toffoli*** gates, build a quantum half-adder circuit.</p>\n",
    " 2. How to interpret the result when the inputs are in superposition?</p>\n",
    "\n",
    "</div>\n"
   ]
  },
  {
   "cell_type": "code",
   "execution_count": null,
   "metadata": {},
   "outputs": [],
   "source": [
    "# Create registers\n",
    "qr = QuantumRegister(3)\n",
    "cr = ClassicalRegister(2)\n",
    "\n",
    "# Quantum Circuit\n",
    "half_adder = QuantumCircuit(qr, cr)\n",
    "\n",
    "# Prepare input states. Example: A=1, B=0\n",
    "half_adder.x(qr[0])\n",
    "\n",
    "# Barriers make circuits prettier\n",
    "half_adder.barrier()\n",
    "\n",
    "# PERFORM MULTI QUBIT OPERATIONS\n",
    "\n",
    "\n",
    "\n",
    "# Barriers make circuits prettier\n",
    "half_adder.barrier()\n",
    "\n",
    "# Measure\n",
    "half_adder.measure(qr[1], cr[0])\n",
    "half_adder.measure(qr[2], cr[1])\n",
    "\n",
    "# Draw\n",
    "half_adder.draw(output='mpl')"
   ]
  },
  {
   "cell_type": "code",
   "execution_count": null,
   "metadata": {},
   "outputs": [],
   "source": [
    "job_ha = execute(half_adder, sim_backend, shots=1000)\n",
    "\n",
    "counts_ha = job_ha.result().get_counts(half_adder)\n",
    "\n",
    "print(counts_ha)\n",
    "\n",
    "plot_histogram(counts_ha)"
   ]
  },
  {
   "cell_type": "markdown",
   "metadata": {},
   "source": [
    "# 5. IBM Q Provider <a id ='ibmq_provider'></a>\n",
    "### Running circuits on an real quantum chip\n",
    "\n",
    "IBM provides access to a real quantum computer through a personal API token. To get your token:\n",
    "\n",
    "* Create an account at https://quantum-computing.ibm.com/login\n",
    "* Log in; the API token should be displayed on the Dashboard\n",
    "* Copy the token to clipboard, paste it into the `API TOKEN` field below.\n"
   ]
  },
  {
   "cell_type": "code",
   "execution_count": null,
   "metadata": {
    "slideshow": {
     "slide_type": "subslide"
    }
   },
   "outputs": [],
   "source": [
    "# Import the IBMQ provider\n",
    "from qiskit import IBMQ\n",
    "\n",
    "# Enable account with API credentials:\n",
    "IBMQ.save_account('API TOKEN', overwrite=True)\n",
    "\n",
    "# Load account credentials if token already registered:\n",
    "IBMQ.load_account()\n",
    "\n"
   ]
  },
  {
   "cell_type": "code",
   "execution_count": null,
   "metadata": {
    "slideshow": {
     "slide_type": "fragment"
    }
   },
   "outputs": [],
   "source": [
    "# Checking the available backends from the IBMQ provider\n",
    "my_provider_ibmq = IBMQ.get_provider(hub='ibm-q', group='open', project='main')\n",
    "\n",
    "available_backends = my_provider_ibmq.backends(operational=True, simulator=False)\n",
    "available_backends"
   ]
  },
  {
   "cell_type": "code",
   "execution_count": null,
   "metadata": {
    "slideshow": {
     "slide_type": "subslide"
    }
   },
   "outputs": [],
   "source": [
    "# Backend overview\n",
    "import qiskit.tools.jupyter\n",
    "\n",
    "%qiskit_backend_overview"
   ]
  },
  {
   "cell_type": "code",
   "execution_count": null,
   "metadata": {
    "slideshow": {
     "slide_type": "subslide"
    }
   },
   "outputs": [],
   "source": [
    "# Call a specific backend\n",
    "#backend = my_provider_ibmq.get_backend('NAME')\n",
    "\n",
    "# Get least busy backend\n",
    "#backend=least_busy(available_backends)\n",
    "\n",
    "# See backend information\n",
    "backend\n",
    "\n",
    "# Or alternatively\n",
    "# backend_monitor(backend)"
   ]
  },
  {
   "cell_type": "markdown",
   "metadata": {},
   "source": [
    "## Running in Real Device <a id='run_r'></a>"
   ]
  },
  {
   "cell_type": "code",
   "execution_count": null,
   "metadata": {},
   "outputs": [],
   "source": [
    "# Monitor queued jobs\n",
    "%qiskit_job_watcher"
   ]
  },
  {
   "cell_type": "code",
   "execution_count": null,
   "metadata": {
    "slideshow": {
     "slide_type": "fragment"
    }
   },
   "outputs": [],
   "source": [
    "# Execute experiment\n",
    "job_ha_r = execute(half_adder, backend, shots=1000)\n",
    "\n",
    "# Save job ID if you wish to retrieve results later\n",
    "#jobID_ha_r = job_ha_r.job_id()\n",
    "#print('JOB ID: {}'.format(jobID_ha_r))"
   ]
  },
  {
   "cell_type": "code",
   "execution_count": null,
   "metadata": {
    "slideshow": {
     "slide_type": "fragment"
    }
   },
   "outputs": [],
   "source": [
    "# Now you can retrieve job using the ID\n",
    "#job_ha_r = backend.retrieve_job(jobID_ha_r)\n",
    "\n",
    "# Get measurement information\n",
    "counts_run = job_ha_r.result().get_counts(half_adder)"
   ]
  },
  {
   "cell_type": "code",
   "execution_count": null,
   "metadata": {
    "scrolled": false,
    "slideshow": {
     "slide_type": "subslide"
    }
   },
   "outputs": [],
   "source": [
    "plot_histogram([counts_run, counts_ha ], legend=[ 'run in real device', 'ideal'])"
   ]
  },
  {
   "cell_type": "markdown",
   "metadata": {},
   "source": [
    "## Transpiler <a id = 'transpiler'></a> "
   ]
  },
  {
   "cell_type": "code",
   "execution_count": null,
   "metadata": {
    "slideshow": {
     "slide_type": "subslide"
    }
   },
   "outputs": [],
   "source": [
    "from qiskit.compiler import transpile\n",
    "\n",
    "half_adder_real = transpile(half_adder, backend=backend)\n",
    "\n",
    "half_adder_real.draw(output='mpl', scale=0.5)"
   ]
  },
  {
   "cell_type": "code",
   "execution_count": null,
   "metadata": {},
   "outputs": [],
   "source": [
    "half_adder.depth()"
   ]
  },
  {
   "cell_type": "code",
   "execution_count": null,
   "metadata": {},
   "outputs": [],
   "source": [
    "half_adder_real.depth()"
   ]
  },
  {
   "cell_type": "code",
   "execution_count": null,
   "metadata": {},
   "outputs": [],
   "source": [
    "from qiskit.visualization import plot_circuit_layout\n",
    "plot_circuit_layout(half_adder_real, backend)"
   ]
  },
  {
   "cell_type": "markdown",
   "metadata": {},
   "source": [
    "&nbsp;\n",
    "\n",
    "# 6. Quantum teleportation<a id='teleport'></a>"
   ]
  },
  {
   "cell_type": "markdown",
   "metadata": {},
   "source": [
    "&nbsp;\n",
    "\n",
    "### Overview\n",
    "\n",
    "Alice wants to send quantum information to Bob. Specifically, suppose she wants to send the qubit state\n",
    "$\\vert\\psi\\rangle = \\alpha\\vert0\\rangle + \\beta\\vert1\\rangle$. \n",
    "This entails passing on information about $\\alpha$ and $\\beta$ to Bob.\n",
    "\n",
    "There exists a theorem in quantum mechanics which states that you cannot simply make an exact copy of an unknown quantum state. This is known as the no-cloning theorem. As a result of this we can see that Alice can't simply generate a copy of $\\vert\\psi\\rangle$ and give the copy to Bob. We can only copy classical states (not superpositions\n",
    "\n",
    "&nbsp;\n",
    "\n",
    "<div class=\"alert alert-block alert-info\">\n",
    "\n",
    "**No-cloning theorem**\n",
    "\n",
    "&nbsp;\n",
    "\n",
    "\n",
    "The no cloning theorem is a result of quantum mechanics which forbids the creation of identical copies of an arbitrary unknown quantum state. \n",
    "\n",
    "&nbsp;\n",
    "\n",
    "This theorem is a vital ingredient in quantum cryptography, as it forbids eavesdroppers from creating copies of a transmitted quantum cryptographic key. It also prevents us from using classical error correction techniques on quantum state (e.g. we cannot create backup copies of a state in the middle of a quantum computation).\n",
    "\n",
    "\n",
    "</div>\n",
    "\n",
    "&nbsp;\n",
    "\n",
    "However, by taking advantage of two classical bits and an entangled qubit pair, Alice can transfer her state $\\vert\\psi\\rangle$ to Bob. We call this teleportation because, at the end, Bob will have $\\vert\\psi\\rangle$ and Alice won't anymore.\n",
    "\n",
    "To transfer a quantum bit, Alice and Bob must use a third party (Telamon) to send them an entangled qubit pair. Alice then performs some operations on her qubit, sends the results to Bob over a classical communication channel, and Bob then performs some operations on his end to receive Alice’s qubit.\n",
    "\n",
    "<img src=\"img/tele1.jpg\" alt=\"\" width=\"600 px\" align=\"center\">\n",
    "\n",
    "&nbsp;\n",
    "\n",
    "<div class=\"alert alert-block alert-info\">\n",
    "\n",
    "**Quantum teleportation protocol**\n",
    "\n",
    "&nbsp;\n",
    "\n",
    "\n",
    "We will describe the steps on a quantum circuit below. Here, no qubits are actually ‘sent’, you’ll just have to imagine that part!\n",
    "\n",
    "</div>\n",
    "\n",
    "&nbsp;\n",
    "\n"
   ]
  },
  {
   "cell_type": "code",
   "execution_count": null,
   "metadata": {},
   "outputs": [],
   "source": [
    "## SETUP\n",
    "# Protocol uses 3 qubits and 2 classical bits in different registers\n",
    "\n",
    "# Qubit to be teleported\n",
    "psi = QuantumRegister(1, name=\"psi\")\n",
    "\n",
    "# Entangled pair (1 qubit for Alice, another for Bob)\n",
    "q_entangled = QuantumRegister(2, name=\"q_entangled\")\n",
    "\n",
    "# 2 classical bits in 2 diferent registers\n",
    "crz = ClassicalRegister(1, name=\"crz\")\n",
    "crx = ClassicalRegister(1, name=\"crx\")\n",
    "\n",
    "# Finally, build circuit\n",
    "teleportation_circuit = QuantumCircuit(psi, q_entangled, crz, crx)"
   ]
  },
  {
   "cell_type": "markdown",
   "metadata": {},
   "source": [
    "&nbsp;\n",
    "\n",
    "<div class=\"alert alert-block alert-info\">\n",
    "\n",
    "**Step 1**\n",
    "\n",
    "&nbsp;\n",
    "\n",
    "A third party, Telamon, creates an entangled pair of qubits and gives one to Bob and one to Alice.\n",
    "\n",
    "The pair Telamon creates is a special pair called a Bell pair. In quantum circuit language, the way to create a Bell pair between two qubits is to first transfer one of them to the X-basis ($|+\\rangle$ and $|-\\rangle$) using a Hadamard gate, and then to apply a CNOT gate onto the other qubit controlled by the one in the X-basis. \n",
    "\n",
    "</div>\n",
    "\n"
   ]
  },
  {
   "cell_type": "code",
   "execution_count": null,
   "metadata": {},
   "outputs": [],
   "source": [
    "def create_bell_pair(qc, q_entangled_0, q_entangled_1):\n",
    "    \"\"\"Creates a bell pair in qc using qubits a & b\"\"\"    \n",
    "# Change qubit q_entangled_0 into state |+>\n",
    "# Implement CNOT with q_entangled_0 as control and q_entangled_1 as target\n",
    "\n",
    "\n",
    "\n"
   ]
  },
  {
   "cell_type": "code",
   "execution_count": null,
   "metadata": {},
   "outputs": [],
   "source": [
    "## SETUP\n",
    "teleportation_circuit = QuantumCircuit(psi, q_entangled, crz, crx)\n",
    "\n",
    "## STEP 1\n",
    "# In our case, Telamon entangles qubits q1 and q2\n",
    "# Let's apply this to our circuit:\n",
    "create_bell_pair(teleportation_circuit, 1, 2)\n",
    "\n",
    "# And view the circuit so far:\n",
    "teleportation_circuit.draw(output='mpl')"
   ]
  },
  {
   "cell_type": "markdown",
   "metadata": {},
   "source": [
    "Let's say Telamon sends Alice `q_entangled_0` and Bob `q_entangled_2`.\n",
    "\n",
    "&nbsp;\n",
    "\n",
    "<div class=\"alert alert-block alert-info\">\n",
    "\n",
    "**Step 2**\n",
    "\n",
    "&nbsp;\n",
    "\n",
    "Alice applies a CNOT gate to `q_entangled_0`, controlled by $\\vert\\psi\\rangle$, the qubit she is trying to teleport to Bob. Then, Alice applies a Hadamard gate to $|\\psi\\rangle$. Her own two qubits are now themselves entangled.\n",
    "\n",
    "In our quantum circuit, the qubit $|\\psi\\rangle$ Alice is trying to send is $psi_0$.\n",
    "\n",
    "&nbsp;\n",
    "\n",
    "</div>"
   ]
  },
  {
   "cell_type": "code",
   "execution_count": null,
   "metadata": {},
   "outputs": [],
   "source": [
    "def alice_gates(qc, psi0, q_entangled_0):\n",
    "    qc.barrier() # Barrier to separate steps\n",
    "\n",
    "    \n",
    "    "
   ]
  },
  {
   "cell_type": "code",
   "execution_count": null,
   "metadata": {},
   "outputs": [],
   "source": [
    "## SETUP\n",
    "teleportation_circuit = QuantumCircuit(psi, q_entangled, crz, crx)\n",
    "\n",
    "## STEP 1\n",
    "# Telamon entangles qubits q1 and q2\n",
    "create_bell_pair(teleportation_circuit, 1, 2)\n",
    "\n",
    "## STEP 2\n",
    "# Alice entangles her two qubits\n",
    "alice_gates(teleportation_circuit, 0, 1)\n",
    "\n",
    "# Visualize circuit so far\n",
    "teleportation_circuit.draw(output='mpl')"
   ]
  },
  {
   "cell_type": "markdown",
   "metadata": {},
   "source": [
    "\n",
    "<div class=\"alert alert-block alert-info\">\n",
    "    \n",
    "**Step 3**\n",
    "\n",
    "&nbsp;\n",
    "\n",
    "Next, Alice applies a measurement to both qubits that she owns, $q_1$ and $\\vert\\psi\\rangle$, and stores this result in two classical bits. She then sends these two bits to Bob.\n",
    "\n",
    "</div>"
   ]
  },
  {
   "cell_type": "code",
   "execution_count": null,
   "metadata": {},
   "outputs": [],
   "source": [
    "def measure_and_send(qc, psi0, q_entangled_0):\n",
    "    \"\"\"Measures qubits psi0 into first bit \n",
    "    & q_entantled_0 into second bit, and 'sends' the results to Bob\"\"\"\n",
    "    qc.barrier()\n",
    "    \n",
    "    \n",
    "    "
   ]
  },
  {
   "cell_type": "code",
   "execution_count": null,
   "metadata": {},
   "outputs": [],
   "source": [
    "## SETUP\n",
    "teleportation_circuit = QuantumCircuit(psi, q_entangled, crz, crx)\n",
    "\n",
    "## STEP 1\n",
    "# Telamon entangles qubits q1 and q2\n",
    "create_bell_pair(teleportation_circuit, 1, 2)\n",
    "\n",
    "## STEP 2\n",
    "# Alice entangles her two qubits\n",
    "alice_gates(teleportation_circuit, 0, 1)\n",
    "\n",
    "## STEP 3\n",
    "## Alice measures her qubits, sends results to Bob\n",
    "measure_and_send(teleportation_circuit, 0 ,1)\n",
    "\n",
    "# Draw circuit so far\n",
    "teleportation_circuit.draw(output='mpl')"
   ]
  },
  {
   "cell_type": "markdown",
   "metadata": {},
   "source": [
    "<div class=\"alert alert-block alert-info\">\n",
    "\n",
    "**Step 4**\n",
    "\n",
    "&nbsp;\n",
    "\n",
    "Bob, who already has the qubit `q_entangled_1`, then applies the following gates depending on the information (two bits) he received from Alice:\n",
    "\n",
    "00 $\\rightarrow$ Do nothing\n",
    "\n",
    "01 $\\rightarrow$ Apply $X$ gate\n",
    "\n",
    "10 $\\rightarrow$ Apply $Z$ gate\n",
    "\n",
    "11 $\\rightarrow$ Apply $ZX$ gate\n",
    "\n",
    "</dev>"
   ]
  },
  {
   "cell_type": "code",
   "execution_count": null,
   "metadata": {},
   "outputs": [],
   "source": [
    "def bob_gates(qc, qubit, crz, crx):\n",
    "    qc.barrier()\n",
    "    # Here we use c_if to control our gates with a classical bit instead of a qubit\n",
    "    qc.x(qubit).c_if(crx, 1) # Apply gates if the registers \n",
    "    qc.z(qubit).c_if(crz, 1) # are in the state '1'"
   ]
  },
  {
   "cell_type": "code",
   "execution_count": null,
   "metadata": {},
   "outputs": [],
   "source": [
    "## SETUP\n",
    "teleportation_circuit = QuantumCircuit(psi, q_entangled, crz, crx)\n",
    "\n",
    "## STEP 1\n",
    "# Telamon entangles qubits q1 and q2\n",
    "create_bell_pair(teleportation_circuit, 1, 2)\n",
    "\n",
    "## STEP 2\n",
    "# Alice entangles her two qubits\n",
    "alice_gates(teleportation_circuit, 0, 1)\n",
    "\n",
    "## STEP 3\n",
    "# Alice measures her qubits, sends results to Bob\n",
    "measure_and_send(teleportation_circuit, 0 ,1)\n",
    "\n",
    "## STEP 4\n",
    "# Bob applies X and/or Z gates depending on the bits he received\n",
    "bob_gates(teleportation_circuit, 2, crz, crx)\n",
    "\n",
    "# Visualize circuit\n",
    "teleportation_circuit.draw(output='mpl')"
   ]
  },
  {
   "cell_type": "markdown",
   "metadata": {},
   "source": [
    "And voila! At the end of this protocol, Alice's qubit (`psi0`) has now teleported to Bob, in `q_entangled_1`.\n",
    "\n",
    "&nbsp;\n",
    "\n",
    "## Testing the protocol\n",
    "\n",
    "&nbsp;\n",
    "\n",
    "In this notebook, we will initialize Alice's qubit in a random state $\\vert\\psi\\rangle$ (`psi`). We use the function `random_state` to choose `psi` for us, but feel free to set `psi` to any qubit state you want."
   ]
  },
  {
   "cell_type": "code",
   "execution_count": null,
   "metadata": {},
   "outputs": [],
   "source": [
    "# Create random 1-qubit state\n",
    "psi0 = random_state(1)\n",
    "\n",
    "# Display it nicely\n",
    "array_to_latex(psi0, pretext=\"|\\\\psi\\\\rangle =\")"
   ]
  },
  {
   "cell_type": "code",
   "execution_count": null,
   "metadata": {},
   "outputs": [],
   "source": [
    "# Show it on a Bloch sphere\n",
    "plot_bloch_multivector(psi0)"
   ]
  },
  {
   "cell_type": "code",
   "execution_count": null,
   "metadata": {},
   "outputs": [],
   "source": [
    "## SETUP\n",
    "teleportation_circuit = QuantumCircuit(psi, q_entangled, crz, crx)\n",
    "\n",
    "## STEP 0\n",
    "# Create |psi>\n",
    "teleportation_circuit.initialize(psi0,0)\n",
    "teleportation_circuit.barrier()\n",
    "\n",
    "## STEP 1\n",
    "# Telamon entangles qubits q1 and q2\n",
    "create_bell_pair(teleportation_circuit, 1, 2)\n",
    "\n",
    "## STEP 2\n",
    "# Alice entangles her two qubits\n",
    "alice_gates(teleportation_circuit, 0, 1)\n",
    "\n",
    "## STEP 3\n",
    "# Alice measures her qubits, sends results to Bob\n",
    "measure_and_send(teleportation_circuit, 0 ,1)\n",
    "\n",
    "## STEP 4\n",
    "# Bob applies X and/or Z gates depending on the bits he received\n",
    "bob_gates(teleportation_circuit, 2, crz, crx)\n",
    "\n",
    "# Visualize circuit\n",
    "teleportation_circuit.draw(output='mpl')"
   ]
  },
  {
   "cell_type": "code",
   "execution_count": null,
   "metadata": {},
   "outputs": [],
   "source": [
    "# Get statevector of Bob's qubit\n",
    "out_vector = execute(teleportation_circuit, sv_backend).result().get_statevector()\n",
    "plot_bloch_multivector(out_vector)"
   ]
  },
  {
   "cell_type": "markdown",
   "metadata": {},
   "source": [
    "&nbsp;\n",
    "\n",
    "## Additional Resources\n",
    "\n",
    "&nbsp;\n",
    "\n",
    "* [Learn quantum computation using Qiskit](https://qiskit.org/learn/)\n",
    "\n",
    "&nbsp;\n",
    "\n",
    "* [Why are quantum amplitudes complex?](https://www.scottaaronson.com/blog/?p=4021)\n",
    "\n",
    "&nbsp;\n",
    "\n",
    "* [The no-cloning theorem](https://www.quantiki.org/wiki/no-cloning-theorem)\n",
    "\n",
    "&nbsp;\n",
    "\n",
    "* [Quantum teleportation - the theory](https://qiskit.org/textbook/ch-algorithms/teleportation.html#understanding-qt)\n",
    "\n"
   ]
  },
  {
   "cell_type": "markdown",
   "metadata": {},
   "source": [
    "&nbsp;\n",
    "\n",
    "## Thank you!\n",
    "\n",
    " - Afonso Rodrigues: afmig1@gmail.com"
   ]
  },
  {
   "cell_type": "code",
   "execution_count": null,
   "metadata": {},
   "outputs": [],
   "source": [
    "import qiskit.tools.jupyter\n",
    "%qiskit_version_table"
   ]
  }
 ],
 "metadata": {
  "anaconda-cloud": {},
  "kernelspec": {
   "display_name": "Python 3",
   "language": "python",
   "name": "python3"
  },
  "language_info": {
   "codemirror_mode": {
    "name": "ipython",
    "version": 3
   },
   "file_extension": ".py",
   "mimetype": "text/x-python",
   "name": "python",
   "nbconvert_exporter": "python",
   "pygments_lexer": "ipython3",
   "version": "3.7.10"
  }
 },
 "nbformat": 4,
 "nbformat_minor": 1
}
